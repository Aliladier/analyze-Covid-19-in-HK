{
  "nbformat": 4,
  "nbformat_minor": 0,
  "metadata": {
    "colab": {
      "name": "3035828592Q1.ipynb",
      "provenance": []
    },
    "kernelspec": {
      "name": "python3",
      "display_name": "Python 3"
    },
    "language_info": {
      "name": "python"
    }
  },
  "cells": [
    {
      "cell_type": "code",
      "metadata": {
        "id": "kPuU5JjTGe50"
      },
      "source": [
        "import requests\n",
        "from bs4 import BeautifulSoup\n",
        "import re\n",
        "import pandas as pd\n",
        "\n",
        "#Q1 i\n",
        "url = \"https://github.com/ShoufaChen/COVID-19/raw/comp2501/csse_covid_19_data/csse_covid_19_daily_reports/\"\n",
        "#df = pd.read_csv(\"https://github.com/ShoufaChen/COVID-19/raw/comp2501/csse_covid_19_data/csse_covid_19_daily_reports/01-29-2020.csv\"\n",
        "#df\n",
        "pat = r'\\d\\d-\\d\\d-2020.csv'\n",
        "text = requests.get(url).text\n",
        "soup = BeautifulSoup(text,'lxml')\n",
        "alist = soup('a')\n",
        "l = []\n",
        "for i in alist:\n",
        "  if i.has_attr('href'):\n",
        "    l.append(i['href'])\n",
        "\n",
        "l2 = []\n",
        "for i in l:\n",
        "  result = re.search(pat,i)\n",
        "  if result != None:\n",
        "    l2.append(result.group())\n",
        "\n",
        "out_file_name = 'Covid19_HongKong.csv'\n",
        "\n",
        "datas = []\n",
        "for i in l2:\n",
        "  df = pd.read_csv(url + i)\n",
        "  hk_data = df[(df == 'Hong Kong').any(axis=1)]\n",
        "  datas.append(hk_data)"
      ],
      "execution_count": 1,
      "outputs": []
    },
    {
      "cell_type": "code",
      "metadata": {
        "id": "VezZMD5raz8s",
        "colab": {
          "base_uri": "https://localhost:8080/",
          "height": 711
        },
        "outputId": "951b5d8c-a8d7-4db6-ea9e-3bc9f6f22362"
      },
      "source": [
        "#Q1 ii\n",
        "import numpy as np\n",
        "df = pd.concat(datas,ignore_index=True)\n",
        "df = df.drop(columns='FIPS')\n",
        "df = df.drop(columns='Admin2')\n",
        "df['Province/State'] = df['Province/State'].replace(np.nan,'Hong Kong')\n",
        "df['Country/Region'] = df['Country/Region'].replace(np.nan, 'Hong Kong')\n",
        "df = df.drop(columns='Province_State')\n",
        "df = df.drop(columns='Country_Region')\n",
        "\n",
        "for i in range(345):\n",
        "  if str(df.iloc[i]['Last Update']) == 'nan':\n",
        "    df.loc[i,'Last Update'] = df.iloc[i]['Last_Update']\n",
        "  if str(df.iloc[i]['Incidence_Rate']) == 'nan':\n",
        "    df.loc[i,'Incidence_Rate'] = df.iloc[i]['Incident_Rate']\n",
        "  if str(df.iloc[i]['Latitude']) == 'nan':\n",
        "    df.loc[i,'Latitude'] = df.iloc[i]['Lat']\n",
        "  if str(df.iloc[i]['Longitude']) == 'nan':\n",
        "    df.loc[i,'Longitude'] = df.iloc[i]['Long_']\n",
        "  if str(df.iloc[i]['Case-Fatality_Ratio']) == 'nan':\n",
        "    df.loc[i,'Case-Fatality_Ratio'] = df.iloc[i]['Case_Fatality_Ratio']\n",
        "\n",
        "df = df.drop(columns='Last_Update')\n",
        "df = df.drop(columns='Incident_Rate')\n",
        "df = df.drop(columns='Lat')\n",
        "df = df.drop(columns='Long_')\n",
        "df = df.drop(columns='Case_Fatality_Ratio')\n",
        "df = df.drop(columns='Combined_Key')\n",
        "\n",
        "df.to_csv(out_file_name)\n",
        "df"
      ],
      "execution_count": 2,
      "outputs": [
        {
          "output_type": "execute_result",
          "data": {
            "text/html": [
              "<div>\n",
              "<style scoped>\n",
              "    .dataframe tbody tr th:only-of-type {\n",
              "        vertical-align: middle;\n",
              "    }\n",
              "\n",
              "    .dataframe tbody tr th {\n",
              "        vertical-align: top;\n",
              "    }\n",
              "\n",
              "    .dataframe thead th {\n",
              "        text-align: right;\n",
              "    }\n",
              "</style>\n",
              "<table border=\"1\" class=\"dataframe\">\n",
              "  <thead>\n",
              "    <tr style=\"text-align: right;\">\n",
              "      <th></th>\n",
              "      <th>Province/State</th>\n",
              "      <th>Country/Region</th>\n",
              "      <th>Last Update</th>\n",
              "      <th>Confirmed</th>\n",
              "      <th>Deaths</th>\n",
              "      <th>Recovered</th>\n",
              "      <th>Latitude</th>\n",
              "      <th>Longitude</th>\n",
              "      <th>Active</th>\n",
              "      <th>Incidence_Rate</th>\n",
              "      <th>Case-Fatality_Ratio</th>\n",
              "    </tr>\n",
              "  </thead>\n",
              "  <tbody>\n",
              "    <tr>\n",
              "      <th>0</th>\n",
              "      <td>Hong Kong</td>\n",
              "      <td>Hong Kong</td>\n",
              "      <td>1/22/2020 17:00</td>\n",
              "      <td>NaN</td>\n",
              "      <td>NaN</td>\n",
              "      <td>NaN</td>\n",
              "      <td>NaN</td>\n",
              "      <td>NaN</td>\n",
              "      <td>NaN</td>\n",
              "      <td>NaN</td>\n",
              "      <td>NaN</td>\n",
              "    </tr>\n",
              "    <tr>\n",
              "      <th>1</th>\n",
              "      <td>Hong Kong</td>\n",
              "      <td>Hong Kong</td>\n",
              "      <td>1/23/20 17:00</td>\n",
              "      <td>2.0</td>\n",
              "      <td>NaN</td>\n",
              "      <td>NaN</td>\n",
              "      <td>NaN</td>\n",
              "      <td>NaN</td>\n",
              "      <td>NaN</td>\n",
              "      <td>NaN</td>\n",
              "      <td>NaN</td>\n",
              "    </tr>\n",
              "    <tr>\n",
              "      <th>2</th>\n",
              "      <td>Hong Kong</td>\n",
              "      <td>Hong Kong</td>\n",
              "      <td>1/24/20 17:00</td>\n",
              "      <td>2.0</td>\n",
              "      <td>NaN</td>\n",
              "      <td>NaN</td>\n",
              "      <td>NaN</td>\n",
              "      <td>NaN</td>\n",
              "      <td>NaN</td>\n",
              "      <td>NaN</td>\n",
              "      <td>NaN</td>\n",
              "    </tr>\n",
              "    <tr>\n",
              "      <th>3</th>\n",
              "      <td>Hong Kong</td>\n",
              "      <td>Hong Kong</td>\n",
              "      <td>1/25/20 17:00</td>\n",
              "      <td>5.0</td>\n",
              "      <td>NaN</td>\n",
              "      <td>NaN</td>\n",
              "      <td>NaN</td>\n",
              "      <td>NaN</td>\n",
              "      <td>NaN</td>\n",
              "      <td>NaN</td>\n",
              "      <td>NaN</td>\n",
              "    </tr>\n",
              "    <tr>\n",
              "      <th>4</th>\n",
              "      <td>Hong Kong</td>\n",
              "      <td>Hong Kong</td>\n",
              "      <td>1/26/20 16:00</td>\n",
              "      <td>8.0</td>\n",
              "      <td>NaN</td>\n",
              "      <td>NaN</td>\n",
              "      <td>NaN</td>\n",
              "      <td>NaN</td>\n",
              "      <td>NaN</td>\n",
              "      <td>NaN</td>\n",
              "      <td>NaN</td>\n",
              "    </tr>\n",
              "    <tr>\n",
              "      <th>...</th>\n",
              "      <td>...</td>\n",
              "      <td>...</td>\n",
              "      <td>...</td>\n",
              "      <td>...</td>\n",
              "      <td>...</td>\n",
              "      <td>...</td>\n",
              "      <td>...</td>\n",
              "      <td>...</td>\n",
              "      <td>...</td>\n",
              "      <td>...</td>\n",
              "      <td>...</td>\n",
              "    </tr>\n",
              "    <tr>\n",
              "      <th>340</th>\n",
              "      <td>Hong Kong</td>\n",
              "      <td>Hong Kong</td>\n",
              "      <td>2020-12-28 05:22:06</td>\n",
              "      <td>8610.0</td>\n",
              "      <td>137.0</td>\n",
              "      <td>7474.0</td>\n",
              "      <td>22.3</td>\n",
              "      <td>114.2</td>\n",
              "      <td>999.0</td>\n",
              "      <td>114.846122</td>\n",
              "      <td>1.591173</td>\n",
              "    </tr>\n",
              "    <tr>\n",
              "      <th>341</th>\n",
              "      <td>Hong Kong</td>\n",
              "      <td>Hong Kong</td>\n",
              "      <td>2020-12-29 05:22:37</td>\n",
              "      <td>8671.0</td>\n",
              "      <td>141.0</td>\n",
              "      <td>7526.0</td>\n",
              "      <td>22.3</td>\n",
              "      <td>114.2</td>\n",
              "      <td>1004.0</td>\n",
              "      <td>115.659782</td>\n",
              "      <td>1.626110</td>\n",
              "    </tr>\n",
              "    <tr>\n",
              "      <th>342</th>\n",
              "      <td>Hong Kong</td>\n",
              "      <td>Hong Kong</td>\n",
              "      <td>2020-12-30 05:22:34</td>\n",
              "      <td>8724.0</td>\n",
              "      <td>143.0</td>\n",
              "      <td>7616.0</td>\n",
              "      <td>22.3</td>\n",
              "      <td>114.2</td>\n",
              "      <td>965.0</td>\n",
              "      <td>116.366733</td>\n",
              "      <td>1.639156</td>\n",
              "    </tr>\n",
              "    <tr>\n",
              "      <th>343</th>\n",
              "      <td>Hong Kong</td>\n",
              "      <td>Hong Kong</td>\n",
              "      <td>2020-12-31 05:22:49</td>\n",
              "      <td>8778.0</td>\n",
              "      <td>147.0</td>\n",
              "      <td>7722.0</td>\n",
              "      <td>22.3</td>\n",
              "      <td>114.2</td>\n",
              "      <td>909.0</td>\n",
              "      <td>117.087022</td>\n",
              "      <td>1.674641</td>\n",
              "    </tr>\n",
              "    <tr>\n",
              "      <th>344</th>\n",
              "      <td>Hong Kong</td>\n",
              "      <td>Hong Kong</td>\n",
              "      <td>2021-01-01 05:23:07</td>\n",
              "      <td>8846.0</td>\n",
              "      <td>148.0</td>\n",
              "      <td>7813.0</td>\n",
              "      <td>22.3</td>\n",
              "      <td>114.2</td>\n",
              "      <td>885.0</td>\n",
              "      <td>117.994053</td>\n",
              "      <td>1.673073</td>\n",
              "    </tr>\n",
              "  </tbody>\n",
              "</table>\n",
              "<p>345 rows × 11 columns</p>\n",
              "</div>"
            ],
            "text/plain": [
              "    Province/State Country/Region  ... Incidence_Rate  Case-Fatality_Ratio\n",
              "0        Hong Kong      Hong Kong  ...            NaN                  NaN\n",
              "1        Hong Kong      Hong Kong  ...            NaN                  NaN\n",
              "2        Hong Kong      Hong Kong  ...            NaN                  NaN\n",
              "3        Hong Kong      Hong Kong  ...            NaN                  NaN\n",
              "4        Hong Kong      Hong Kong  ...            NaN                  NaN\n",
              "..             ...            ...  ...            ...                  ...\n",
              "340      Hong Kong      Hong Kong  ...     114.846122             1.591173\n",
              "341      Hong Kong      Hong Kong  ...     115.659782             1.626110\n",
              "342      Hong Kong      Hong Kong  ...     116.366733             1.639156\n",
              "343      Hong Kong      Hong Kong  ...     117.087022             1.674641\n",
              "344      Hong Kong      Hong Kong  ...     117.994053             1.673073\n",
              "\n",
              "[345 rows x 11 columns]"
            ]
          },
          "metadata": {},
          "execution_count": 2
        }
      ]
    },
    {
      "cell_type": "code",
      "metadata": {
        "id": "l3thMyPmqa_p",
        "colab": {
          "base_uri": "https://localhost:8080/",
          "height": 282
        },
        "outputId": "4b75164d-6500-487a-9e0d-2e68e86d6a8b"
      },
      "source": [
        "#Q1 iii\n",
        "import seaborn as sns\n",
        "\n",
        "df2 = pd.read_csv(out_file_name)\n",
        "sns.lineplot(data=df2,x=df2.index,y='Confirmed')"
      ],
      "execution_count": 3,
      "outputs": [
        {
          "output_type": "execute_result",
          "data": {
            "text/plain": [
              "<matplotlib.axes._subplots.AxesSubplot at 0x7fdff041bb10>"
            ]
          },
          "metadata": {},
          "execution_count": 3
        },
        {
          "output_type": "display_data",
          "data": {
            "image/png": "[encoded data removed]",
            "text/plain": [
              "<Figure size 432x288 with 1 Axes>"
            ]
          },
          "metadata": {
            "needs_background": "light"
          }
        }
      ]
    },
    {
      "cell_type": "code",
      "metadata": {
        "colab": {
          "base_uri": "https://localhost:8080/",
          "height": 282
        },
        "id": "gWGUnepsvwPp",
        "outputId": "16ad8938-a666-4b96-9293-69bc6d4252bc"
      },
      "source": [
        "#Q1 iv\n",
        "l = []\n",
        "for i in range(1,345):\n",
        "  l.append(df2.loc[i,'Confirmed'] - df2.loc[i - 1,'Confirmed'])\n",
        "l.insert(0,np.nan)\n",
        "df2.insert(12,'Increase',l)\n",
        "sns.lineplot(data=df2,x=df2.index,y='Increase')"
      ],
      "execution_count": 4,
      "outputs": [
        {
          "output_type": "execute_result",
          "data": {
            "text/plain": [
              "<matplotlib.axes._subplots.AxesSubplot at 0x7fdffe7233d0>"
            ]
          },
          "metadata": {},
          "execution_count": 4
        },
        {
          "output_type": "display_data",
          "data": {
            "image/png": "[encoded data removed]",
            "text/plain": [
              "<Figure size 432x288 with 1 Axes>"
            ]
          },
          "metadata": {
            "needs_background": "light"
          }
        }
      ]
    }
  ]
}